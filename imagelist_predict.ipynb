{
 "cells": [
  {
   "cell_type": "code",
   "execution_count": 22,
   "metadata": {
    "collapsed": true
   },
   "outputs": [],
   "source": [
    "import pandas\n",
    "import psycopg2\n",
    "from sklearn.feature_extraction.text import TfidfVectorizer\n",
    "from typing import List\n",
    "\n",
    "from sklearn.metrics import roc_auc_score\n",
    "\n",
    "from utils.nlp.word_cut import tokenizer\n",
    "\n",
    "from sklearn.model_selection import train_test_split\n",
    "from sklearn.linear_model import LogisticRegression\n",
    "from sklearn.feature_extraction.text import CountVectorizer\n",
    "from getpass import getpass\n",
    "\n",
    "conn = psycopg2.connect(\n",
    "    database=\"resman\",\n",
    "    user=\"resman\",\n",
    "    password=getpass(\"Input db password\"),\n",
    "    host=\"172.30.0.59\",\n",
    "    port=\"5432\"\n",
    ")"
   ]
  },
  {
   "cell_type": "code",
   "execution_count": 23,
   "outputs": [],
   "source": [
    "\n",
    "def creating_vectorizor(titles: List[str]) -> TfidfVectorizer:\n",
    "    print(f\"Training from {len(titles)} titles\")\n",
    "    return CountVectorizer(\n",
    "        analyzer=tokenizer,\n",
    "        lowercase=False,\n",
    "        max_df=0.95,\n",
    "        min_df=3,\n",
    "    ).fit(titles)"
   ],
   "metadata": {
    "collapsed": false,
    "pycharm": {
     "name": "#%%\n"
    }
   }
  },
  {
   "cell_type": "code",
   "execution_count": 24,
   "outputs": [
    {
     "name": "stdout",
     "output_type": "stream",
     "text": [
      "Training from 35875 titles\n"
     ]
    }
   ],
   "source": [
    "vectorizor = creating_vectorizor(\n",
    "    pandas.read_sql(\"select title from public.data_imagelist\", conn)[\"title\"].tolist()\n",
    ")"
   ],
   "metadata": {
    "collapsed": false,
    "pycharm": {
     "name": "#%%\n"
    }
   }
  },
  {
   "cell_type": "code",
   "execution_count": 25,
   "outputs": [
    {
     "name": "stdout",
     "output_type": "stream",
     "text": [
      "C=4 Test score=0.7809431524547804, train score=0.9991039426523296\n"
     ]
    }
   ],
   "source": [
    "df = pandas.read_sql(\"\"\"\n",
    "SELECT\n",
    "    title,\n",
    "    (click_count>2 OR positive_reaction is true OR fetch_rate>0.85) as y\n",
    "FROM\n",
    "    public.imagelist_master\n",
    "WHERE\n",
    "    user_id=1 AND (impression_count>0 OR click_count>0 OR positive_reaction is true)\n",
    "\"\"\", conn)\n",
    "\n",
    "X_train, X_test, y_train, y_test = train_test_split(\n",
    "    vectorizor.transform(df[\"title\"].tolist()), df[\"y\"].to_numpy(), test_size=0.15, random_state=0\n",
    ")\n",
    "C = 4\n",
    "lr_model = LogisticRegression(\n",
    "    C=C, penalty='l1', solver='liblinear',class_weight=\"balanced\",max_iter=1000\n",
    ")\n",
    "lr_model.fit(X_train, y_train)\n",
    "print(\"C={} Test score={}, train score={}\".format(\n",
    "    C,\n",
    "    roc_auc_score(y_test, lr_model.decision_function(X_test)),\n",
    "    roc_auc_score(y_train, lr_model.decision_function(X_train))\n",
    "))"
   ],
   "metadata": {
    "collapsed": false,
    "pycharm": {
     "name": "#%%\n"
    }
   }
  },
  {
   "cell_type": "code",
   "execution_count": 26,
   "outputs": [],
   "source": [
    "features = sorted(\n",
    "    list(zip(vectorizor.get_feature_names(), lr_model.coef_[0].tolist())),\n",
    "    key=lambda x:-x[1]\n",
    ")"
   ],
   "metadata": {
    "collapsed": false,
    "pycharm": {
     "name": "#%%\n"
    }
   }
  },
  {
   "cell_type": "code",
   "execution_count": 27,
   "outputs": [
    {
     "data": {
      "text/plain": "[('多肉', 8.604532271775538),\n ('微胖', 6.2939372687111685),\n ('实现', 5.622967852460113),\n ('韵味', 5.591806119353699),\n ('欠干', 5.431505576988046),\n ('小萝莉', 5.252513094728178),\n ('93', 5.075816201911905),\n ('体会', 4.840009847888401),\n ('看不到', 4.792743497066377),\n ('难忍', 4.7610244920354345),\n ('·', 4.700818592630982),\n ('无毛', 4.633792680526883),\n ('天天', 4.61396263138857),\n ('最舒服', 4.612184033485558),\n ('黑人', 4.5165414460811935),\n ('含泪', 4.479068527959245),\n ('观音坐莲', 4.445521398339773),\n ('娘们', 4.439230096575159),\n ('丰满', 4.4171651870893704),\n ('几吧', 4.382422114821367),\n ('一辆', 4.371113815675124),\n ('馒头', 4.361352080464563),\n ('过瘾', 4.315477942146212),\n ('空虚', 4.279875334321422),\n ('输出', 4.2236684409297025),\n ('碰', 4.20241044446053),\n ('肉体', 4.168072604258457),\n ('一塌糊涂', 4.156155494959358),\n ('城中村', 4.075410598086435),\n ('国庆', 4.0680846489278135),\n ('胖子', 4.0314154867191565),\n ('纯', 3.930387949624208),\n ('大胸', 3.8688245133200097),\n ('硕', 3.8524871812305146),\n ('PT', 3.8390351673560117),\n ('姐妹', 3.8350746974952905),\n ('收藏', 3.8289551200462544),\n ('上阵', 3.7386686106916813),\n ('白皙', 3.72135105140718),\n ('效果', 3.703003945534909)]"
     },
     "execution_count": 27,
     "metadata": {},
     "output_type": "execute_result"
    }
   ],
   "source": [
    "features[:40]"
   ],
   "metadata": {
    "collapsed": false,
    "pycharm": {
     "name": "#%%\n"
    }
   }
  },
  {
   "cell_type": "code",
   "execution_count": 28,
   "outputs": [
    {
     "data": {
      "text/plain": "[('鲍鱼', -2.968748909165689),\n ('不想', -3.052615264773241),\n ('就算', -3.053664470130807),\n ('手指', -3.055493799789334),\n ('豪乳', -3.069950300846224),\n ('撩妹', -3.222072987181318),\n ('雪白', -3.254665977075379),\n ('可惜', -3.2952820541441707),\n ('穿着', -3.3631627189451705),\n ('配合', -3.410935180834021),\n ('拍摄', -3.427544876877342),\n ('引导', -3.731118857187758),\n ('美穴', -3.7781701036542987),\n ('丁字裤', -3.826494428445469),\n ('骚气', -4.097246298353958),\n ('穿', -4.449563403597916),\n ('强烈', -4.7784461371747335),\n ('淫荡', -4.8188427553940185),\n ('夫妻生活', -4.956902370454732),\n ('唯美', -6.692442092771125)]"
     },
     "execution_count": 28,
     "metadata": {},
     "output_type": "execute_result"
    }
   ],
   "source": [
    "features[-20:]"
   ],
   "metadata": {
    "collapsed": false,
    "pycharm": {
     "name": "#%%\n"
    }
   }
  },
  {
   "cell_type": "code",
   "execution_count": null,
   "outputs": [],
   "source": [],
   "metadata": {
    "collapsed": false,
    "pycharm": {
     "name": "#%%\n"
    }
   }
  }
 ],
 "metadata": {
  "kernelspec": {
   "display_name": "Python 3",
   "language": "python",
   "name": "python3"
  },
  "language_info": {
   "codemirror_mode": {
    "name": "ipython",
    "version": 2
   },
   "file_extension": ".py",
   "mimetype": "text/x-python",
   "name": "python",
   "nbconvert_exporter": "python",
   "pygments_lexer": "ipython2",
   "version": "2.7.6"
  }
 },
 "nbformat": 4,
 "nbformat_minor": 0
}