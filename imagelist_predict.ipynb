{
 "cells": [
  {
   "cell_type": "code",
   "execution_count": 1,
   "metadata": {
    "collapsed": true,
    "pycharm": {
     "name": "#%%\n"
    }
   },
   "outputs": [
    {
     "name": "stderr",
     "output_type": "stream",
     "text": [
      "Building prefix dict from the default dictionary ...\n",
      "Loading model from cache /tmp/jieba.cache\n",
      "Loading model cost 0.630 seconds.\n",
      "Prefix dict has been built successfully.\n"
     ]
    }
   ],
   "source": [
    "import pandas\n",
    "import psycopg2\n",
    "from sklearn.feature_extraction.text import TfidfVectorizer\n",
    "from typing import List\n",
    "\n",
    "from sklearn.metrics import roc_auc_score\n",
    "\n",
    "from utils.nlp.word_cut import tokenizer\n",
    "\n",
    "from sklearn.model_selection import train_test_split\n",
    "from sklearn.linear_model import LogisticRegression\n",
    "from getpass import getpass\n",
    "\n",
    "conn = psycopg2.connect(\n",
    "    database=\"resman\",\n",
    "    user=\"resman\",\n",
    "    password=getpass(\"Input db password\"),\n",
    "    host=\"172.30.0.59\",\n",
    "    port=\"5432\"\n",
    ")"
   ]
  },
  {
   "cell_type": "code",
   "execution_count": 18,
   "outputs": [],
   "source": [
    "\n",
    "def creating_vectorizor(titles: List[str]) -> TfidfVectorizer:\n",
    "    print(f\"Training from {len(titles)} titles\")\n",
    "    return TfidfVectorizer(\n",
    "        analyzer=tokenizer,\n",
    "        lowercase=False,\n",
    "        # max_df=0.95,\n",
    "        # min_df=3,\n",
    "    ).fit(titles)"
   ],
   "metadata": {
    "collapsed": false,
    "pycharm": {
     "name": "#%%\n"
    }
   }
  },
  {
   "cell_type": "code",
   "execution_count": 19,
   "outputs": [
    {
     "name": "stdout",
     "output_type": "stream",
     "text": [
      "Training from 94511 titles\n"
     ]
    }
   ],
   "source": [
    "vectorizor = creating_vectorizor(\n",
    "    pandas.read_sql(\"select title from public.data_imagelist\", conn)[\"title\"].tolist()\n",
    ")"
   ],
   "metadata": {
    "collapsed": false,
    "pycharm": {
     "name": "#%%\n"
    }
   }
  },
  {
   "cell_type": "code",
   "execution_count": 28,
   "outputs": [
    {
     "name": "stdout",
     "output_type": "stream",
     "text": [
      "[LibLinear]C=10 Test score=0.8040847613144766, train score=0.983623610872184\n"
     ]
    }
   ],
   "source": [
    "df = pandas.read_sql(\"\"\"\n",
    "SELECT\n",
    "    title,\n",
    "    (click_count>2 OR positive_reaction is true OR fetch_rate>0.85) as y\n",
    "FROM\n",
    "    public.imagelist_master\n",
    "WHERE\n",
    "    user_id=1 AND (impression_count>0 OR click_count>0 OR positive_reaction is true)\n",
    "\"\"\", conn)\n",
    "\n",
    "X_train, X_test, y_train, y_test = train_test_split(\n",
    "    vectorizor.transform(df[\"title\"].tolist()), df[\"y\"].to_numpy(), test_size=0.15, random_state=0\n",
    ")"
   ],
   "metadata": {
    "collapsed": false,
    "pycharm": {
     "name": "#%%\n"
    }
   }
  },
  {
   "cell_type": "code",
   "execution_count": 36,
   "outputs": [
    {
     "name": "stdout",
     "output_type": "stream",
     "text": [
      "[LibLinear]C=1 Test score=0.8243806509697787, train score=0.9410384238235298\n"
     ]
    }
   ],
   "source": [
    "C = 1\n",
    "lr_model = LogisticRegression(\n",
    "    C=C, penalty='l2', solver='liblinear',class_weight=\"balanced\",max_iter=4000,verbose=True\n",
    ")\n",
    "lr_model.fit(X_train, y_train)\n",
    "print(\"C={} Test score={}, train score={}\".format(\n",
    "    C,\n",
    "    roc_auc_score(y_test, lr_model.decision_function(X_test)),\n",
    "    roc_auc_score(y_train, lr_model.decision_function(X_train))\n",
    "))"
   ],
   "metadata": {
    "collapsed": false,
    "pycharm": {
     "name": "#%%\n"
    }
   }
  },
  {
   "cell_type": "code",
   "execution_count": 37,
   "outputs": [],
   "source": [
    "features = sorted(\n",
    "    list(zip(vectorizor.get_feature_names(), lr_model.coef_[0].tolist())),\n",
    "    key=lambda x:-x[1]\n",
    ")"
   ],
   "metadata": {
    "collapsed": false,
    "pycharm": {
     "name": "#%%\n"
    }
   }
  },
  {
   "cell_type": "code",
   "execution_count": 38,
   "outputs": [
    {
     "data": {
      "text/plain": "[('坦克', 5.930476187651531),\n ('熟女', 5.625434714620802),\n ('大妈', 5.484892749963467),\n ('微胖', 5.465565022667665),\n ('大姐', 5.078154033448531),\n ('阿姨', 4.464852309224589),\n ('丰满', 4.44913596456246),\n ('肉肉', 4.0264116813277315),\n ('老', 3.9550246342201656),\n ('一线天', 3.742100126962617),\n ('农村', 3.738874294901159),\n ('丑', 3.613875226293607),\n ('胖妞', 3.4066180353127113),\n ('胖妹', 3.396289240572246),\n ('馒头', 3.3894142806356182),\n ('胖', 3.3644653112744747),\n ('无毛', 3.358567185602998),\n ('眼镜', 3.265338917049555),\n ('姐姐', 3.2558146963111856),\n ('熟妇', 2.9547282709456586),\n ('小萝莉', 2.9301110460896886),\n ('高中', 2.824696338204029),\n ('年纪', 2.808521188082216),\n ('白虎', 2.8069035629533334),\n ('肉', 2.801830791935213),\n ('肥', 2.783152392000311),\n ('肥逼', 2.714232416242113),\n ('多肉', 2.713003545643903),\n ('丰腴', 2.6662018884613783),\n ('寡妇', 2.621573615448385),\n ('肉乎乎', 2.6171295607403295),\n ('肉感', 2.6066624865297077),\n ('大嫂', 2.57252919782641),\n ('胖胖的', 2.5551623063630227),\n ('半老徐娘', 2.4918118784690857),\n ('初中', 2.4887401951765686),\n ('萝莉', 2.477669239370399),\n ('泻火', 2.460923162951594),\n ('胖乎乎', 2.451889598668843),\n ('PT', 2.4440466769451272)]"
     },
     "execution_count": 38,
     "metadata": {},
     "output_type": "execute_result"
    }
   ],
   "source": [
    "features[:40]"
   ],
   "metadata": {
    "collapsed": false,
    "pycharm": {
     "name": "#%%\n"
    }
   }
  },
  {
   "cell_type": "code",
   "execution_count": 27,
   "outputs": [
    {
     "data": {
      "text/plain": "[('户外', -2.893643115241421),\n ('手感', -2.9428114203503997),\n ('情人', -2.9429608739239006),\n ('黑森林', -2.962968045302646),\n ('车震', -3.0319139061471354),\n ('水嫩', -3.036083041498311),\n ('女友', -3.0391792881746205),\n ('制服', -3.0582838540228523),\n ('摄影师', -3.06179240360905),\n ('东西', -3.0849451210913617),\n ('唯美', -3.086540921216233),\n ('秘书', -3.1645497779368643),\n ('黑木耳', -3.1789050887422623),\n ('美穴', -3.2019140214986574),\n ('白色', -3.277759151452974),\n ('护士', -3.29477093524725),\n ('美好', -3.302158022368162),\n ('裸体', -3.33953179080623),\n ('激情', -3.353695347583527),\n ('娇妻', -3.3559554400591187),\n ('情侣', -3.356674449658241),\n ('性感', -3.4518342143410523),\n ('黑色', -3.4678003060306595),\n ('情趣内衣', -3.4813929722885644),\n ('黑丝', -3.4960078596851054),\n ('大学生', -3.5440203048979173),\n ('骚妻', -3.5607094760498494),\n ('OL', -3.628617913086124),\n ('呀', -3.7021418264293717),\n ('空姐', -3.8433402966492425),\n ('道具', -3.8498080677921522),\n ('【', -3.856201107449009),\n ('长腿', -3.940717587787523),\n ('拍', -3.9938767274848734),\n ('美丽', -4.0786433144712415),\n ('鲍', -4.096230249141138),\n ('】', -4.105881506861862),\n ('露出', -4.301475155886592),\n ('美女', -4.73071734920988),\n ('鲍鱼', -4.9989198308935014)]"
     },
     "execution_count": 27,
     "metadata": {},
     "output_type": "execute_result"
    }
   ],
   "source": [
    "features[-40:]"
   ],
   "metadata": {
    "collapsed": false,
    "pycharm": {
     "name": "#%%\n"
    }
   }
  },
  {
   "cell_type": "code",
   "execution_count": 7,
   "outputs": [],
   "source": [],
   "metadata": {
    "collapsed": false,
    "pycharm": {
     "name": "#%%\n"
    }
   }
  }
 ],
 "metadata": {
  "kernelspec": {
   "display_name": "Python 3",
   "language": "python",
   "name": "python3"
  },
  "language_info": {
   "codemirror_mode": {
    "name": "ipython",
    "version": 2
   },
   "file_extension": ".py",
   "mimetype": "text/x-python",
   "name": "python",
   "nbconvert_exporter": "python",
   "pygments_lexer": "ipython2",
   "version": "2.7.6"
  }
 },
 "nbformat": 4,
 "nbformat_minor": 0
}